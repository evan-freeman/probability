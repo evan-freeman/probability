{
 "metadata": {
  "language_info": {
   "codemirror_mode": {
    "name": "ipython",
    "version": 3
   },
   "file_extension": ".py",
   "mimetype": "text/x-python",
   "name": "python",
   "nbconvert_exporter": "python",
   "pygments_lexer": "ipython3",
   "version": "3.7.7-final"
  },
  "orig_nbformat": 2,
  "kernelspec": {
   "name": "Python 3.7.7 64-bit ('base': conda)",
   "display_name": "Python 3.7.7 64-bit ('base': conda)",
   "metadata": {
    "interpreter": {
     "hash": "de690e31fe9d725a3f1a23784010a526d1003a84316823e653dea6589f824730"
    }
   }
  }
 },
 "nbformat": 4,
 "nbformat_minor": 2,
 "cells": [
  {
   "source": [
    "While whatching Dratnos' stream, a chat member mentioned a \"death roll\". \n",
    "Dratnos explained that this is a type of gambling with the following rules:\n",
    "\n",
    "1. This is a two player gamble.\n",
    "2. Player A rolls from 1 to i, yielding j.\n",
    "3. Player B rolls from 1 to j, yielding k.\n",
    "4. Player A rolls from 1 to k, yielding l.\n",
    "5. This continues until some player rolls 1. \n",
    "- In that case, the player who rolled 1 pays the other i.\n",
    "\n",
    "I'm curious if this is a fair bet or not. Let's do some simulation!"
   ],
   "cell_type": "markdown",
   "metadata": {}
  },
  {
   "cell_type": "code",
   "execution_count": 4,
   "metadata": {
    "tags": []
   },
   "outputs": [
    {
     "output_type": "stream",
     "name": "stdout",
     "text": "{&#39;A&#39;: 50026, &#39;B&#39;: 49974}\n"
    }
   ],
   "source": [
    "# Here we'll have player A go first each time, and keep track of number of wins for each player.\n",
    "# We'll also have the bet set to 10000\n",
    "\n",
    "from numpy.random import randint\n",
    "from itertools import cycle\n",
    "\n",
    "scoreboard = {'A': 0,'B': 0}\n",
    "games = []\n",
    "players = cycle(('A', 'B'))\n",
    "bet = 10000\n",
    "\n",
    "for i in range(100000):\n",
    "    game = []\n",
    "    roll = bet                              # This is just to initialize the loop, doesn't mean anything\n",
    "    while roll != 1:\n",
    "        player = next(players)\n",
    "        roll = randint(1, roll + 1)\n",
    "        game.append((player, roll))\n",
    "    scoreboard[next(players)] += 1\n",
    "    games.append(game)\n",
    "\n",
    "# print(games)\n",
    "print(scoreboard)\n"
   ]
  },
  {
   "cell_type": "code",
   "execution_count": 5,
   "metadata": {
    "tags": []
   },
   "outputs": [
    {
     "output_type": "stream",
     "name": "stdout",
     "text": "[(&#39;A&#39;, 457), (&#39;B&#39;, 304), (&#39;A&#39;, 13), (&#39;B&#39;, 7), (&#39;A&#39;, 6), (&#39;B&#39;, 5), (&#39;A&#39;, 5), (&#39;B&#39;, 1)]\n[(&#39;B&#39;, 878), (&#39;A&#39;, 730), (&#39;B&#39;, 549), (&#39;A&#39;, 321), (&#39;B&#39;, 35), (&#39;A&#39;, 16), (&#39;B&#39;, 15), (&#39;A&#39;, 5), (&#39;B&#39;, 4), (&#39;A&#39;, 4), (&#39;B&#39;, 4), (&#39;A&#39;, 1)]\n[(&#39;A&#39;, 8102), (&#39;B&#39;, 6530), (&#39;A&#39;, 5822), (&#39;B&#39;, 4865), (&#39;A&#39;, 818), (&#39;B&#39;, 401), (&#39;A&#39;, 247), (&#39;B&#39;, 161), (&#39;A&#39;, 28), (&#39;B&#39;, 4), (&#39;A&#39;, 2), (&#39;B&#39;, 1)]\n[(&#39;B&#39;, 363), (&#39;A&#39;, 151), (&#39;B&#39;, 149), (&#39;A&#39;, 108), (&#39;B&#39;, 11), (&#39;A&#39;, 7), (&#39;B&#39;, 4), (&#39;A&#39;, 4), (&#39;B&#39;, 3), (&#39;A&#39;, 1)]\n[(&#39;A&#39;, 1682), (&#39;B&#39;, 708), (&#39;A&#39;, 560), (&#39;B&#39;, 555), (&#39;A&#39;, 66), (&#39;B&#39;, 36), (&#39;A&#39;, 6), (&#39;B&#39;, 1)]\n[(&#39;B&#39;, 9051), (&#39;A&#39;, 6983), (&#39;B&#39;, 6962), (&#39;A&#39;, 3519), (&#39;B&#39;, 199), (&#39;A&#39;, 184), (&#39;B&#39;, 51), (&#39;A&#39;, 13), (&#39;B&#39;, 13), (&#39;A&#39;, 5), (&#39;B&#39;, 1)]\n[(&#39;B&#39;, 4320), (&#39;A&#39;, 1349), (&#39;B&#39;, 1167), (&#39;A&#39;, 133), (&#39;B&#39;, 59), (&#39;A&#39;, 26), (&#39;B&#39;, 2), (&#39;A&#39;, 2), (&#39;B&#39;, 2), (&#39;A&#39;, 2), (&#39;B&#39;, 2), (&#39;A&#39;, 1)]\n[(&#39;A&#39;, 1173), (&#39;B&#39;, 630), (&#39;A&#39;, 186), (&#39;B&#39;, 122), (&#39;A&#39;, 25), (&#39;B&#39;, 9), (&#39;A&#39;, 1)]\n[(&#39;A&#39;, 5965), (&#39;B&#39;, 1278), (&#39;A&#39;, 133), (&#39;B&#39;, 96), (&#39;A&#39;, 54), (&#39;B&#39;, 22), (&#39;A&#39;, 4), (&#39;B&#39;, 3), (&#39;A&#39;, 3), (&#39;B&#39;, 1)]\n[(&#39;B&#39;, 1899), (&#39;A&#39;, 177), (&#39;B&#39;, 155), (&#39;A&#39;, 68), (&#39;B&#39;, 35), (&#39;A&#39;, 24), (&#39;B&#39;, 13), (&#39;A&#39;, 7), (&#39;B&#39;, 2), (&#39;A&#39;, 2), (&#39;B&#39;, 2), (&#39;A&#39;, 1)]\n"
    }
   ],
   "source": [
    "for i in range(10):\n",
    "    print(games[i])"
   ]
  },
  {
   "source": [
    "After thinking for a while, and playing around, I'm convinced this is a fair game.\n",
    "\n",
    "* Consider bet = 2. In that case, A has a 50% chance to lose. If A doesn't lose, then B has a 50% chance to lose. And so on.\n",
    "\n",
    "* So this is a fair game, as each roll, the players have the same chance to win or lose.\n",
    "\n",
    "* For bet = 3, if A rolls 3, it stays fair (they each have 33% chance to lose).\n",
    "\n",
    "* \"If A rolls 2, it reduces to bet = 2, which we already showed to be fair.\n",
    "\n",
    "This reasoning can be used to make an inductive argument that this is a fair game."
   ],
   "cell_type": "markdown",
   "metadata": {}
  },
  {
   "cell_type": "code",
   "execution_count": null,
   "metadata": {},
   "outputs": [],
   "source": []
  }
 ]
}