{
 "metadata": {
  "language_info": {
   "codemirror_mode": {
    "name": "ipython",
    "version": 3
   },
   "file_extension": ".py",
   "mimetype": "text/x-python",
   "name": "python",
   "nbconvert_exporter": "python",
   "pygments_lexer": "ipython3",
   "version": "3.7.7-final"
  },
  "orig_nbformat": 2,
  "kernelspec": {
   "name": "Python 3.7.7 64-bit ('base': conda)",
   "display_name": "Python 3.7.7 64-bit ('base': conda)",
   "metadata": {
    "interpreter": {
     "hash": "de690e31fe9d725a3f1a23784010a526d1003a84316823e653dea6589f824730"
    }
   }
  }
 },
 "nbformat": 4,
 "nbformat_minor": 2,
 "cells": [
  {
   "source": [
    "Let's do some roulette simulations!\n",
    "\n",
    "We'll start with the American Wheel, which is worse for players.\n",
    "\n",
    "House advantage is about 5%"
   ],
   "cell_type": "markdown",
   "metadata": {}
  },
  {
   "cell_type": "code",
   "execution_count": 1,
   "metadata": {},
   "outputs": [],
   "source": [
    "from roulette import Roulette\n",
    "r = Roulette(100)"
   ]
  },
  {
   "cell_type": "code",
   "execution_count": 2,
   "metadata": {
    "tags": []
   },
   "outputs": [],
   "source": [
    "for i in range(1000):\n",
    "    r.bet(\n",
    "        type = \"straight\", \n",
    "        choice = 5, \n",
    "        amount = 1\n",
    "        )"
   ]
  },
  {
   "cell_type": "code",
   "execution_count": 3,
   "metadata": {},
   "outputs": [
    {
     "output_type": "execute_result",
     "data": {
      "text/plain": "    roll      type choice amount    win money total_wins total_losses  \\\n0     13  straight      5      1  False    -1          0            0   \n1     34  straight      5      1  False    -1          0            1   \n2     16  straight      5      1  False    -1          0            2   \n3      0  straight      5      1  False    -1          0            3   \n4     25  straight      5      1  False    -1          0            4   \n..   ...       ...    ...    ...    ...   ...        ...          ...   \n995   25  straight      5      1  False    -1         25          970   \n996   22  straight      5      1  False    -1         25          971   \n997   14  straight      5      1  False    -1         25          972   \n998   30  straight      5      1  False    -1         25          973   \n999   25  straight      5      1  False    -1         25          974   \n\n    total_money  \n0            99  \n1            98  \n2            97  \n3            96  \n4            95  \n..          ...  \n995           4  \n996           3  \n997           2  \n998           1  \n999           0  \n\n[1000 rows x 9 columns]",
      "text/html": "<div>\n<style scoped>\n    .dataframe tbody tr th:only-of-type {\n        vertical-align: middle;\n    }\n\n    .dataframe tbody tr th {\n        vertical-align: top;\n    }\n\n    .dataframe thead th {\n        text-align: right;\n    }\n</style>\n<table border=\"1\" class=\"dataframe\">\n  <thead>\n    <tr style=\"text-align: right;\">\n      <th></th>\n      <th>roll</th>\n      <th>type</th>\n      <th>choice</th>\n      <th>amount</th>\n      <th>win</th>\n      <th>money</th>\n      <th>total_wins</th>\n      <th>total_losses</th>\n      <th>total_money</th>\n    </tr>\n  </thead>\n  <tbody>\n    <tr>\n      <th>0</th>\n      <td>13</td>\n      <td>straight</td>\n      <td>5</td>\n      <td>1</td>\n      <td>False</td>\n      <td>-1</td>\n      <td>0</td>\n      <td>0</td>\n      <td>99</td>\n    </tr>\n    <tr>\n      <th>1</th>\n      <td>34</td>\n      <td>straight</td>\n      <td>5</td>\n      <td>1</td>\n      <td>False</td>\n      <td>-1</td>\n      <td>0</td>\n      <td>1</td>\n      <td>98</td>\n    </tr>\n    <tr>\n      <th>2</th>\n      <td>16</td>\n      <td>straight</td>\n      <td>5</td>\n      <td>1</td>\n      <td>False</td>\n      <td>-1</td>\n      <td>0</td>\n      <td>2</td>\n      <td>97</td>\n    </tr>\n    <tr>\n      <th>3</th>\n      <td>0</td>\n      <td>straight</td>\n      <td>5</td>\n      <td>1</td>\n      <td>False</td>\n      <td>-1</td>\n      <td>0</td>\n      <td>3</td>\n      <td>96</td>\n    </tr>\n    <tr>\n      <th>4</th>\n      <td>25</td>\n      <td>straight</td>\n      <td>5</td>\n      <td>1</td>\n      <td>False</td>\n      <td>-1</td>\n      <td>0</td>\n      <td>4</td>\n      <td>95</td>\n    </tr>\n    <tr>\n      <th>...</th>\n      <td>...</td>\n      <td>...</td>\n      <td>...</td>\n      <td>...</td>\n      <td>...</td>\n      <td>...</td>\n      <td>...</td>\n      <td>...</td>\n      <td>...</td>\n    </tr>\n    <tr>\n      <th>995</th>\n      <td>25</td>\n      <td>straight</td>\n      <td>5</td>\n      <td>1</td>\n      <td>False</td>\n      <td>-1</td>\n      <td>25</td>\n      <td>970</td>\n      <td>4</td>\n    </tr>\n    <tr>\n      <th>996</th>\n      <td>22</td>\n      <td>straight</td>\n      <td>5</td>\n      <td>1</td>\n      <td>False</td>\n      <td>-1</td>\n      <td>25</td>\n      <td>971</td>\n      <td>3</td>\n    </tr>\n    <tr>\n      <th>997</th>\n      <td>14</td>\n      <td>straight</td>\n      <td>5</td>\n      <td>1</td>\n      <td>False</td>\n      <td>-1</td>\n      <td>25</td>\n      <td>972</td>\n      <td>2</td>\n    </tr>\n    <tr>\n      <th>998</th>\n      <td>30</td>\n      <td>straight</td>\n      <td>5</td>\n      <td>1</td>\n      <td>False</td>\n      <td>-1</td>\n      <td>25</td>\n      <td>973</td>\n      <td>1</td>\n    </tr>\n    <tr>\n      <th>999</th>\n      <td>25</td>\n      <td>straight</td>\n      <td>5</td>\n      <td>1</td>\n      <td>False</td>\n      <td>-1</td>\n      <td>25</td>\n      <td>974</td>\n      <td>0</td>\n    </tr>\n  </tbody>\n</table>\n<p>1000 rows × 9 columns</p>\n</div>"
     },
     "metadata": {},
     "execution_count": 3
    }
   ],
   "source": [
    "df = r.results_df\n",
    "df"
   ]
  },
  {
   "cell_type": "code",
   "execution_count": 4,
   "metadata": {},
   "outputs": [
    {
     "output_type": "execute_result",
     "data": {
      "text/plain": "    roll      type choice amount   win money total_wins total_losses  \\\n17     5  straight      5      1  True    35          0           17   \n20     5  straight      5      1  True    35          1           19   \n105    5  straight      5      1  True    35          2          103   \n111    5  straight      5      1  True    35          3          108   \n130    5  straight      5      1  True    35          4          126   \n193    5  straight      5      1  True    35          5          188   \n308    5  straight      5      1  True    35          6          302   \n495    5  straight      5      1  True    35          7          488   \n544    5  straight      5      1  True    35          8          536   \n557    5  straight      5      1  True    35          9          548   \n615    5  straight      5      1  True    35         10          605   \n648    5  straight      5      1  True    35         11          637   \n668    5  straight      5      1  True    35         12          656   \n678    5  straight      5      1  True    35         13          665   \n722    5  straight      5      1  True    35         14          708   \n756    5  straight      5      1  True    35         15          741   \n779    5  straight      5      1  True    35         16          763   \n788    5  straight      5      1  True    35         17          771   \n830    5  straight      5      1  True    35         18          812   \n848    5  straight      5      1  True    35         19          829   \n864    5  straight      5      1  True    35         20          844   \n883    5  straight      5      1  True    35         21          862   \n920    5  straight      5      1  True    35         22          898   \n947    5  straight      5      1  True    35         23          924   \n984    5  straight      5      1  True    35         24          960   \n\n    total_money  \n17          118  \n20          151  \n105         102  \n111         132  \n130         149  \n193         122  \n308          43  \n495        -108  \n544        -121  \n557         -98  \n615        -120  \n648        -117  \n668        -101  \n678         -75  \n722         -83  \n756         -81  \n779         -68  \n788         -41  \n830         -47  \n848         -29  \n864          -9  \n883           8  \n920           7  \n947          16  \n984          15  ",
      "text/html": "<div>\n<style scoped>\n    .dataframe tbody tr th:only-of-type {\n        vertical-align: middle;\n    }\n\n    .dataframe tbody tr th {\n        vertical-align: top;\n    }\n\n    .dataframe thead th {\n        text-align: right;\n    }\n</style>\n<table border=\"1\" class=\"dataframe\">\n  <thead>\n    <tr style=\"text-align: right;\">\n      <th></th>\n      <th>roll</th>\n      <th>type</th>\n      <th>choice</th>\n      <th>amount</th>\n      <th>win</th>\n      <th>money</th>\n      <th>total_wins</th>\n      <th>total_losses</th>\n      <th>total_money</th>\n    </tr>\n  </thead>\n  <tbody>\n    <tr>\n      <th>17</th>\n      <td>5</td>\n      <td>straight</td>\n      <td>5</td>\n      <td>1</td>\n      <td>True</td>\n      <td>35</td>\n      <td>0</td>\n      <td>17</td>\n      <td>118</td>\n    </tr>\n    <tr>\n      <th>20</th>\n      <td>5</td>\n      <td>straight</td>\n      <td>5</td>\n      <td>1</td>\n      <td>True</td>\n      <td>35</td>\n      <td>1</td>\n      <td>19</td>\n      <td>151</td>\n    </tr>\n    <tr>\n      <th>105</th>\n      <td>5</td>\n      <td>straight</td>\n      <td>5</td>\n      <td>1</td>\n      <td>True</td>\n      <td>35</td>\n      <td>2</td>\n      <td>103</td>\n      <td>102</td>\n    </tr>\n    <tr>\n      <th>111</th>\n      <td>5</td>\n      <td>straight</td>\n      <td>5</td>\n      <td>1</td>\n      <td>True</td>\n      <td>35</td>\n      <td>3</td>\n      <td>108</td>\n      <td>132</td>\n    </tr>\n    <tr>\n      <th>130</th>\n      <td>5</td>\n      <td>straight</td>\n      <td>5</td>\n      <td>1</td>\n      <td>True</td>\n      <td>35</td>\n      <td>4</td>\n      <td>126</td>\n      <td>149</td>\n    </tr>\n    <tr>\n      <th>193</th>\n      <td>5</td>\n      <td>straight</td>\n      <td>5</td>\n      <td>1</td>\n      <td>True</td>\n      <td>35</td>\n      <td>5</td>\n      <td>188</td>\n      <td>122</td>\n    </tr>\n    <tr>\n      <th>308</th>\n      <td>5</td>\n      <td>straight</td>\n      <td>5</td>\n      <td>1</td>\n      <td>True</td>\n      <td>35</td>\n      <td>6</td>\n      <td>302</td>\n      <td>43</td>\n    </tr>\n    <tr>\n      <th>495</th>\n      <td>5</td>\n      <td>straight</td>\n      <td>5</td>\n      <td>1</td>\n      <td>True</td>\n      <td>35</td>\n      <td>7</td>\n      <td>488</td>\n      <td>-108</td>\n    </tr>\n    <tr>\n      <th>544</th>\n      <td>5</td>\n      <td>straight</td>\n      <td>5</td>\n      <td>1</td>\n      <td>True</td>\n      <td>35</td>\n      <td>8</td>\n      <td>536</td>\n      <td>-121</td>\n    </tr>\n    <tr>\n      <th>557</th>\n      <td>5</td>\n      <td>straight</td>\n      <td>5</td>\n      <td>1</td>\n      <td>True</td>\n      <td>35</td>\n      <td>9</td>\n      <td>548</td>\n      <td>-98</td>\n    </tr>\n    <tr>\n      <th>615</th>\n      <td>5</td>\n      <td>straight</td>\n      <td>5</td>\n      <td>1</td>\n      <td>True</td>\n      <td>35</td>\n      <td>10</td>\n      <td>605</td>\n      <td>-120</td>\n    </tr>\n    <tr>\n      <th>648</th>\n      <td>5</td>\n      <td>straight</td>\n      <td>5</td>\n      <td>1</td>\n      <td>True</td>\n      <td>35</td>\n      <td>11</td>\n      <td>637</td>\n      <td>-117</td>\n    </tr>\n    <tr>\n      <th>668</th>\n      <td>5</td>\n      <td>straight</td>\n      <td>5</td>\n      <td>1</td>\n      <td>True</td>\n      <td>35</td>\n      <td>12</td>\n      <td>656</td>\n      <td>-101</td>\n    </tr>\n    <tr>\n      <th>678</th>\n      <td>5</td>\n      <td>straight</td>\n      <td>5</td>\n      <td>1</td>\n      <td>True</td>\n      <td>35</td>\n      <td>13</td>\n      <td>665</td>\n      <td>-75</td>\n    </tr>\n    <tr>\n      <th>722</th>\n      <td>5</td>\n      <td>straight</td>\n      <td>5</td>\n      <td>1</td>\n      <td>True</td>\n      <td>35</td>\n      <td>14</td>\n      <td>708</td>\n      <td>-83</td>\n    </tr>\n    <tr>\n      <th>756</th>\n      <td>5</td>\n      <td>straight</td>\n      <td>5</td>\n      <td>1</td>\n      <td>True</td>\n      <td>35</td>\n      <td>15</td>\n      <td>741</td>\n      <td>-81</td>\n    </tr>\n    <tr>\n      <th>779</th>\n      <td>5</td>\n      <td>straight</td>\n      <td>5</td>\n      <td>1</td>\n      <td>True</td>\n      <td>35</td>\n      <td>16</td>\n      <td>763</td>\n      <td>-68</td>\n    </tr>\n    <tr>\n      <th>788</th>\n      <td>5</td>\n      <td>straight</td>\n      <td>5</td>\n      <td>1</td>\n      <td>True</td>\n      <td>35</td>\n      <td>17</td>\n      <td>771</td>\n      <td>-41</td>\n    </tr>\n    <tr>\n      <th>830</th>\n      <td>5</td>\n      <td>straight</td>\n      <td>5</td>\n      <td>1</td>\n      <td>True</td>\n      <td>35</td>\n      <td>18</td>\n      <td>812</td>\n      <td>-47</td>\n    </tr>\n    <tr>\n      <th>848</th>\n      <td>5</td>\n      <td>straight</td>\n      <td>5</td>\n      <td>1</td>\n      <td>True</td>\n      <td>35</td>\n      <td>19</td>\n      <td>829</td>\n      <td>-29</td>\n    </tr>\n    <tr>\n      <th>864</th>\n      <td>5</td>\n      <td>straight</td>\n      <td>5</td>\n      <td>1</td>\n      <td>True</td>\n      <td>35</td>\n      <td>20</td>\n      <td>844</td>\n      <td>-9</td>\n    </tr>\n    <tr>\n      <th>883</th>\n      <td>5</td>\n      <td>straight</td>\n      <td>5</td>\n      <td>1</td>\n      <td>True</td>\n      <td>35</td>\n      <td>21</td>\n      <td>862</td>\n      <td>8</td>\n    </tr>\n    <tr>\n      <th>920</th>\n      <td>5</td>\n      <td>straight</td>\n      <td>5</td>\n      <td>1</td>\n      <td>True</td>\n      <td>35</td>\n      <td>22</td>\n      <td>898</td>\n      <td>7</td>\n    </tr>\n    <tr>\n      <th>947</th>\n      <td>5</td>\n      <td>straight</td>\n      <td>5</td>\n      <td>1</td>\n      <td>True</td>\n      <td>35</td>\n      <td>23</td>\n      <td>924</td>\n      <td>16</td>\n    </tr>\n    <tr>\n      <th>984</th>\n      <td>5</td>\n      <td>straight</td>\n      <td>5</td>\n      <td>1</td>\n      <td>True</td>\n      <td>35</td>\n      <td>24</td>\n      <td>960</td>\n      <td>15</td>\n    </tr>\n  </tbody>\n</table>\n</div>"
     },
     "metadata": {},
     "execution_count": 4
    }
   ],
   "source": [
    "df[df.win == True]"
   ]
  },
  {
   "source": [
    "TODO:\n",
    "\n",
    "1. Fix the win / loss counting issue"
   ],
   "cell_type": "markdown",
   "metadata": {}
  },
  {
   "cell_type": "code",
   "execution_count": null,
   "metadata": {},
   "outputs": [],
   "source": []
  }
 ]
}